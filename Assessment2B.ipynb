{
  "cells": [
    {
      "cell_type": "markdown",
      "metadata": {
        "id": "pdQ3NyDx7WaH"
      },
      "source": [
        "###### Assessment"
      ]
    },
    {
      "cell_type": "markdown",
      "metadata": {
        "id": "Dfv0aRgE7WaL"
      },
      "source": [
        "###### I am going to provide two .csv files , you are supposed to work on them and have to provide solutions to the following problems"
      ]
    },
    {
      "cell_type": "markdown",
      "metadata": {
        "id": "n7fOJE787WaM"
      },
      "source": [
        "###### import necessary libraries"
      ]
    },
    {
      "cell_type": "code",
      "execution_count": 32,
      "metadata": {
        "id": "ttgX4iGY7WaN"
      },
      "outputs": [],
      "source": [
        "import pandas as pd\n",
        "import matplotlib.pyplot as plt"
      ]
    },
    {
      "cell_type": "code",
      "source": [
        "from google.colab import files\n",
        " \n",
        " \n",
        "uploaded = files.upload()"
      ],
      "metadata": {
        "colab": {
          "base_uri": "https://localhost:8080/",
          "height": 108
        },
        "id": "8I28q8i4A1dS",
        "outputId": "8794c728-0376-4134-83ae-46052c303320"
      },
      "execution_count": 4,
      "outputs": [
        {
          "output_type": "display_data",
          "data": {
            "text/plain": [
              "<IPython.core.display.HTML object>"
            ],
            "text/html": [
              "\n",
              "     <input type=\"file\" id=\"files-b5886da2-e95e-49fd-a0a5-598aeec9e46b\" name=\"files[]\" multiple disabled\n",
              "        style=\"border:none\" />\n",
              "     <output id=\"result-b5886da2-e95e-49fd-a0a5-598aeec9e46b\">\n",
              "      Upload widget is only available when the cell has been executed in the\n",
              "      current browser session. Please rerun this cell to enable.\n",
              "      </output>\n",
              "      <script>// Copyright 2017 Google LLC\n",
              "//\n",
              "// Licensed under the Apache License, Version 2.0 (the \"License\");\n",
              "// you may not use this file except in compliance with the License.\n",
              "// You may obtain a copy of the License at\n",
              "//\n",
              "//      http://www.apache.org/licenses/LICENSE-2.0\n",
              "//\n",
              "// Unless required by applicable law or agreed to in writing, software\n",
              "// distributed under the License is distributed on an \"AS IS\" BASIS,\n",
              "// WITHOUT WARRANTIES OR CONDITIONS OF ANY KIND, either express or implied.\n",
              "// See the License for the specific language governing permissions and\n",
              "// limitations under the License.\n",
              "\n",
              "/**\n",
              " * @fileoverview Helpers for google.colab Python module.\n",
              " */\n",
              "(function(scope) {\n",
              "function span(text, styleAttributes = {}) {\n",
              "  const element = document.createElement('span');\n",
              "  element.textContent = text;\n",
              "  for (const key of Object.keys(styleAttributes)) {\n",
              "    element.style[key] = styleAttributes[key];\n",
              "  }\n",
              "  return element;\n",
              "}\n",
              "\n",
              "// Max number of bytes which will be uploaded at a time.\n",
              "const MAX_PAYLOAD_SIZE = 100 * 1024;\n",
              "\n",
              "function _uploadFiles(inputId, outputId) {\n",
              "  const steps = uploadFilesStep(inputId, outputId);\n",
              "  const outputElement = document.getElementById(outputId);\n",
              "  // Cache steps on the outputElement to make it available for the next call\n",
              "  // to uploadFilesContinue from Python.\n",
              "  outputElement.steps = steps;\n",
              "\n",
              "  return _uploadFilesContinue(outputId);\n",
              "}\n",
              "\n",
              "// This is roughly an async generator (not supported in the browser yet),\n",
              "// where there are multiple asynchronous steps and the Python side is going\n",
              "// to poll for completion of each step.\n",
              "// This uses a Promise to block the python side on completion of each step,\n",
              "// then passes the result of the previous step as the input to the next step.\n",
              "function _uploadFilesContinue(outputId) {\n",
              "  const outputElement = document.getElementById(outputId);\n",
              "  const steps = outputElement.steps;\n",
              "\n",
              "  const next = steps.next(outputElement.lastPromiseValue);\n",
              "  return Promise.resolve(next.value.promise).then((value) => {\n",
              "    // Cache the last promise value to make it available to the next\n",
              "    // step of the generator.\n",
              "    outputElement.lastPromiseValue = value;\n",
              "    return next.value.response;\n",
              "  });\n",
              "}\n",
              "\n",
              "/**\n",
              " * Generator function which is called between each async step of the upload\n",
              " * process.\n",
              " * @param {string} inputId Element ID of the input file picker element.\n",
              " * @param {string} outputId Element ID of the output display.\n",
              " * @return {!Iterable<!Object>} Iterable of next steps.\n",
              " */\n",
              "function* uploadFilesStep(inputId, outputId) {\n",
              "  const inputElement = document.getElementById(inputId);\n",
              "  inputElement.disabled = false;\n",
              "\n",
              "  const outputElement = document.getElementById(outputId);\n",
              "  outputElement.innerHTML = '';\n",
              "\n",
              "  const pickedPromise = new Promise((resolve) => {\n",
              "    inputElement.addEventListener('change', (e) => {\n",
              "      resolve(e.target.files);\n",
              "    });\n",
              "  });\n",
              "\n",
              "  const cancel = document.createElement('button');\n",
              "  inputElement.parentElement.appendChild(cancel);\n",
              "  cancel.textContent = 'Cancel upload';\n",
              "  const cancelPromise = new Promise((resolve) => {\n",
              "    cancel.onclick = () => {\n",
              "      resolve(null);\n",
              "    };\n",
              "  });\n",
              "\n",
              "  // Wait for the user to pick the files.\n",
              "  const files = yield {\n",
              "    promise: Promise.race([pickedPromise, cancelPromise]),\n",
              "    response: {\n",
              "      action: 'starting',\n",
              "    }\n",
              "  };\n",
              "\n",
              "  cancel.remove();\n",
              "\n",
              "  // Disable the input element since further picks are not allowed.\n",
              "  inputElement.disabled = true;\n",
              "\n",
              "  if (!files) {\n",
              "    return {\n",
              "      response: {\n",
              "        action: 'complete',\n",
              "      }\n",
              "    };\n",
              "  }\n",
              "\n",
              "  for (const file of files) {\n",
              "    const li = document.createElement('li');\n",
              "    li.append(span(file.name, {fontWeight: 'bold'}));\n",
              "    li.append(span(\n",
              "        `(${file.type || 'n/a'}) - ${file.size} bytes, ` +\n",
              "        `last modified: ${\n",
              "            file.lastModifiedDate ? file.lastModifiedDate.toLocaleDateString() :\n",
              "                                    'n/a'} - `));\n",
              "    const percent = span('0% done');\n",
              "    li.appendChild(percent);\n",
              "\n",
              "    outputElement.appendChild(li);\n",
              "\n",
              "    const fileDataPromise = new Promise((resolve) => {\n",
              "      const reader = new FileReader();\n",
              "      reader.onload = (e) => {\n",
              "        resolve(e.target.result);\n",
              "      };\n",
              "      reader.readAsArrayBuffer(file);\n",
              "    });\n",
              "    // Wait for the data to be ready.\n",
              "    let fileData = yield {\n",
              "      promise: fileDataPromise,\n",
              "      response: {\n",
              "        action: 'continue',\n",
              "      }\n",
              "    };\n",
              "\n",
              "    // Use a chunked sending to avoid message size limits. See b/62115660.\n",
              "    let position = 0;\n",
              "    do {\n",
              "      const length = Math.min(fileData.byteLength - position, MAX_PAYLOAD_SIZE);\n",
              "      const chunk = new Uint8Array(fileData, position, length);\n",
              "      position += length;\n",
              "\n",
              "      const base64 = btoa(String.fromCharCode.apply(null, chunk));\n",
              "      yield {\n",
              "        response: {\n",
              "          action: 'append',\n",
              "          file: file.name,\n",
              "          data: base64,\n",
              "        },\n",
              "      };\n",
              "\n",
              "      let percentDone = fileData.byteLength === 0 ?\n",
              "          100 :\n",
              "          Math.round((position / fileData.byteLength) * 100);\n",
              "      percent.textContent = `${percentDone}% done`;\n",
              "\n",
              "    } while (position < fileData.byteLength);\n",
              "  }\n",
              "\n",
              "  // All done.\n",
              "  yield {\n",
              "    response: {\n",
              "      action: 'complete',\n",
              "    }\n",
              "  };\n",
              "}\n",
              "\n",
              "scope.google = scope.google || {};\n",
              "scope.google.colab = scope.google.colab || {};\n",
              "scope.google.colab._files = {\n",
              "  _uploadFiles,\n",
              "  _uploadFilesContinue,\n",
              "};\n",
              "})(self);\n",
              "</script> "
            ]
          },
          "metadata": {}
        },
        {
          "output_type": "stream",
          "name": "stdout",
          "text": [
            "Saving college_1.csv to college_1.csv\n",
            "Saving college_2.csv to college_2.csv\n"
          ]
        }
      ]
    },
    {
      "cell_type": "markdown",
      "metadata": {
        "id": "9r2pcroE7WaO"
      },
      "source": [
        "###### merge those two csv files (after getting as dataframes, get them as a single dataframe)"
      ]
    },
    {
      "cell_type": "code",
      "source": [
        "df1=pd.read_csv('college_1.csv')\n",
        "df2=pd.read_csv('college_2.csv')"
      ],
      "metadata": {
        "id": "QAqJUHnv87LD"
      },
      "execution_count": 6,
      "outputs": []
    },
    {
      "cell_type": "code",
      "execution_count": 24,
      "metadata": {
        "id": "Lb6fn6Vi7WaO"
      },
      "outputs": [],
      "source": [
        "frames = [df1, df2]\n",
        "\n",
        "result = pd.concat(frames)"
      ]
    },
    {
      "cell_type": "markdown",
      "metadata": {
        "id": "a1rk-1Ol7WaO"
      },
      "source": [
        "###### Take each csv file , split that csv file into multiple categories (example csv files are added in the repo) \n"
      ]
    },
    {
      "cell_type": "markdown",
      "metadata": {
        "id": "FLvMUCX97WaP"
      },
      "source": [
        "###### consider if the codekata score exceeds 15000 points(present week) then make a csv on those observations as Exceeded expectations.csv\n"
      ]
    },
    {
      "cell_type": "markdown",
      "metadata": {
        "id": "fHLjP8AX7WaP"
      },
      "source": [
        "###### if  10000<codekata score<15000   (Reached_expectations.csv)\n",
        "\n"
      ]
    },
    {
      "cell_type": "markdown",
      "metadata": {
        "id": "JCv-2ZW97WaQ"
      },
      "source": [
        "###### if  7000<codekata score<10000   (Needs_Improvement.csv)\n"
      ]
    },
    {
      "cell_type": "markdown",
      "metadata": {
        "id": "JBF1SeIA7WaQ"
      },
      "source": [
        "###### if  codekate score < 7000        (Unsatisfactory.csv)"
      ]
    },
    {
      "cell_type": "code",
      "execution_count": 21,
      "metadata": {
        "id": "Zkk6lHQG7WaQ"
      },
      "outputs": [],
      "source": [
        "df_new = result[result['CodeKata Score'] > 15000]\n",
        "df_new.to_csv('Exceeded expectations.csv')\n",
        "df_new = result[result['CodeKata Score'].between(10000,15000)]\n",
        "df_new.to_csv('Reached_expectations.csv')\n",
        "df_new = result[result['CodeKata Score'].between(7000,10000)]\n",
        "df_new.to_csv('Needs_Improvement.csv')\n",
        "df_new = result[result['CodeKata Score'] < 7000]\n",
        "df_new.to_csv('Unsatisfactory.csv')"
      ]
    },
    {
      "cell_type": "markdown",
      "metadata": {
        "id": "1YaBeMS-7WaR"
      },
      "source": [
        "###### Average of previous week geekions vs this week geekions (i.e Previous Geekions vs CodeKata Score)"
      ]
    },
    {
      "cell_type": "code",
      "execution_count": 22,
      "metadata": {
        "colab": {
          "base_uri": "https://localhost:8080/"
        },
        "id": "4KdaeonD7WaR",
        "outputId": "f6f24d0e-b247-4128-97a8-5a7f6eb5d6c5"
      },
      "outputs": [
        {
          "output_type": "stream",
          "name": "stdout",
          "text": [
            "Avg of Previous week Geekions:  3842.3529411764707 \n",
            "Avg of Previous week CodeKata Score:  4051.764705882353\n"
          ]
        }
      ],
      "source": [
        "print(\"Avg of Previous week Geekions: \",result['Previous Geekions'].mean(),\"\\nAvg of Previous week CodeKata Score: \",result['CodeKata Score'].mean())"
      ]
    },
    {
      "cell_type": "markdown",
      "metadata": {
        "id": "Kqw1iW6a7WaR"
      },
      "source": [
        "###### No of students participated "
      ]
    },
    {
      "cell_type": "code",
      "execution_count": 25,
      "metadata": {
        "colab": {
          "base_uri": "https://localhost:8080/"
        },
        "id": "Zw9SNLts7WaR",
        "outputId": "dc11fb2c-dfa8-4935-d904-11c485cb1828"
      },
      "outputs": [
        {
          "output_type": "stream",
          "name": "stdout",
          "text": [
            "No.of students participated:  112\n"
          ]
        }
      ],
      "source": [
        "print(\"No.of students participated: \",len(result[(result['Previous Geekions'] != 0) & (result['CodeKata Score'] != 0)]))"
      ]
    },
    {
      "cell_type": "markdown",
      "metadata": {
        "id": "WO-sUmn27WaS"
      },
      "source": [
        "###### #Average completion of python course or my_sql or python english or computational thinking"
      ]
    },
    {
      "cell_type": "code",
      "execution_count": 28,
      "metadata": {
        "colab": {
          "base_uri": "https://localhost:8080/"
        },
        "id": "j-Gqi_TW7WaS",
        "outputId": "d040b06c-694d-4b2e-ca9e-d4a623ef33d9"
      },
      "outputs": [
        {
          "output_type": "stream",
          "name": "stdout",
          "text": [
            "Average completion of python course or my_sql or python english or computational thinking\n",
            " python                    54.352941\n",
            "mysql                     23.500000\n",
            "python_en                 29.657143\n",
            "computational_thinking     2.200000\n",
            "dtype: float64\n"
          ]
        }
      ],
      "source": [
        "cols=['python','mysql','python_en','computational_thinking']\n",
        "print('Average completion of python course or my_sql or python english or computational thinking\\n',result[cols].mean())"
      ]
    },
    {
      "cell_type": "markdown",
      "metadata": {
        "id": "cQ7FaIqg7WaS"
      },
      "source": [
        "###### rising star of the week (top 3 candidate who performed well in that particular week)"
      ]
    },
    {
      "cell_type": "code",
      "execution_count": 29,
      "metadata": {
        "colab": {
          "base_uri": "https://localhost:8080/"
        },
        "id": "T_a5u2EY7WaS",
        "outputId": "28d34a9c-a977-4e31-c4ea-cf8417a9c76e"
      },
      "outputs": [
        {
          "output_type": "stream",
          "name": "stdout",
          "text": [
            "                 Name  python  mysql  Previous Geekions  CodeKata Score  \\\n",
            "8            shifak N    58.0    0.0               5180            8320   \n",
            "18     Narasimhan Y L    -1.0    0.0               4800            6800   \n",
            "2   Ganesh Ramkumar R    -1.0   24.0               8790           10790   \n",
            "\n",
            "                                Department  Rising  python_en  \\\n",
            "8   Electronics and Electrical Engineering    3140        0.0   \n",
            "18        Computer Science and Engineering    2000       -1.0   \n",
            "2         Computer Science and Engineering    2000       55.0   \n",
            "\n",
            "    computational_thinking  \n",
            "8                      0.0  \n",
            "18                     0.0  \n",
            "2                      6.0  \n"
          ]
        }
      ],
      "source": [
        "rstar = result.sort_values(by=['Rising'], ascending=False)\n",
        "print(rstar.head(3))"
      ]
    },
    {
      "cell_type": "markdown",
      "metadata": {
        "id": "1sslGKH_7WaS"
      },
      "source": [
        "###### Shining stars of the week (top 3 candidates who has highest geekions)"
      ]
    },
    {
      "cell_type": "code",
      "execution_count": 31,
      "metadata": {
        "colab": {
          "base_uri": "https://localhost:8080/"
        },
        "id": "r1wP5O6c7WaS",
        "outputId": "67446c7d-8e73-47ec-b550-d1812f35001a"
      },
      "outputs": [
        {
          "output_type": "stream",
          "name": "stdout",
          "text": [
            "          Name  python  mysql  Previous Geekions  CodeKata Score  \\\n",
            "0    A.Dharani    82.0   20.0              24500           24500   \n",
            "1  V.JEEVITHA     82.0   20.0              21740           21740   \n",
            "2  HEMAVATHI.R   100.0  100.0              19680           19680   \n",
            "\n",
            "                         Department  Rising  python_en  computational_thinking  \n",
            "0  Computer Science and Engineering       0        NaN                     NaN  \n",
            "1  Computer Science and Engineering       0        NaN                     NaN  \n",
            "2  Computer Science and Engineering       0        NaN                     NaN  \n"
          ]
        }
      ],
      "source": [
        "sstar = result.sort_values(by=['Previous Geekions'], ascending=False)\n",
        "print(sstar.head(3))"
      ]
    },
    {
      "cell_type": "markdown",
      "metadata": {
        "id": "fAn22_AA7WaT"
      },
      "source": [
        "###### Department wise codekata performence (pie chart)"
      ]
    },
    {
      "cell_type": "code",
      "execution_count": 37,
      "metadata": {
        "colab": {
          "base_uri": "https://localhost:8080/",
          "height": 498
        },
        "id": "sLt-IdBR7WaT",
        "outputId": "ae9a26e1-2d5e-4c51-d1a8-15789b536603"
      },
      "outputs": [
        {
          "output_type": "stream",
          "name": "stdout",
          "text": [
            "Department\n",
            "Computer Science and Engineering             5079.761905\n",
            "Electronics and Communication Engineering    2777.820513\n",
            "Electronics and Electrical Engineering       3164.705882\n",
            "Name: CodeKata Score, dtype: float64\n"
          ]
        },
        {
          "output_type": "display_data",
          "data": {
            "text/plain": [
              "<Figure size 720x504 with 1 Axes>"
            ],
            "image/png": "[encoded data removed]"
          },
          "metadata": {}
        }
      ],
      "source": [
        "p=result.groupby('Department')['CodeKata Score'].mean()\n",
        "print(p)\n",
        "l=result.Department.unique()\n",
        "fig = plt.figure(figsize =(10, 7))\n",
        "plt.pie(p,labels=l)\n",
        "# show plot\n",
        "plt.show()\n",
        "#result.plot(result[\"Department\"], result[\"CodeKata Score\"],kind=\"pie\")"
      ]
    },
    {
      "cell_type": "markdown",
      "metadata": {
        "id": "br9hW3NF7WaT"
      },
      "source": [
        "###### Department wise toppers (horizantal bar graph or any visual representations of your choice)"
      ]
    },
    {
      "cell_type": "code",
      "execution_count": 98,
      "metadata": {
        "colab": {
          "base_uri": "https://localhost:8080/",
          "height": 1000
        },
        "id": "Ym6jsHWl7WaT",
        "outputId": "7d1f8241-a5a9-4f00-8d88-a7786ec48c4d"
      },
      "outputs": [
        {
          "output_type": "stream",
          "name": "stdout",
          "text": [
            "Python Departmentwise Toppers\n",
            "            Name  python  mysql  Previous Geekions  CodeKata Score  \\\n",
            "2   HEMAVATHI.R   100.0  100.0              19680           19680   \n",
            "17  v.vithyasri   100.0   12.0               4370            4370   \n",
            "64   k.parvathi   100.0  100.0                260             260   \n",
            "\n",
            "                                   Department  Rising  python_en  \\\n",
            "2            Computer Science and Engineering       0        NaN   \n",
            "17  Electronics and Communication Engineering       0        NaN   \n",
            "64     Electronics and Electrical Engineering       0        NaN   \n",
            "\n",
            "    computational_thinking  \n",
            "2                      NaN  \n",
            "17                     NaN  \n",
            "64                     NaN  \n",
            "\n",
            "Graph for Python Toppers\n"
          ]
        },
        {
          "output_type": "display_data",
          "data": {
            "text/plain": [
              "<Figure size 432x288 with 1 Axes>"
            ],
            "image/png": "[encoded data removed]"
          },
          "metadata": {
            "needs_background": "light"
          }
        },
        {
          "output_type": "stream",
          "name": "stdout",
          "text": [
            "Python_en Departmentwise Toppers\n",
            "            Name  python  mysql  Previous Geekions  CodeKata Score  \\\n",
            "5    Poojitha Y     0.0   35.0               7210            8970   \n",
            "16      Guhan S    -1.0   35.0               7310            7630   \n",
            "4     VIINU V P    -1.0   24.0               9150            9150   \n",
            "\n",
            "                                   Department  Rising  python_en  \\\n",
            "5            Computer Science and Engineering    1760       78.0   \n",
            "16  Electronics and Communication Engineering     320       72.0   \n",
            "4      Electronics and Electrical Engineering       0      100.0   \n",
            "\n",
            "    computational_thinking  \n",
            "5                      0.0  \n",
            "16                    39.0  \n",
            "4                     -1.0  \n",
            "\n",
            "Graph for Python_en Toppers\n"
          ]
        },
        {
          "output_type": "display_data",
          "data": {
            "text/plain": [
              "<Figure size 432x288 with 1 Axes>"
            ],
            "image/png": "[encoded data removed]"
          },
          "metadata": {
            "needs_background": "light"
          }
        },
        {
          "output_type": "stream",
          "name": "stdout",
          "text": [
            "Mysql Departmentwise Toppers\n",
            "            Name  python  mysql  Previous Geekions  CodeKata Score  \\\n",
            "2   HEMAVATHI.R   100.0  100.0              19680           19680   \n",
            "49     bavithra     0.0  100.0               1020            1020   \n",
            "64   k.parvathi   100.0  100.0                260             260   \n",
            "\n",
            "                                   Department  Rising  python_en  \\\n",
            "2            Computer Science and Engineering       0        NaN   \n",
            "49  Electronics and Communication Engineering       0        NaN   \n",
            "64     Electronics and Electrical Engineering       0        NaN   \n",
            "\n",
            "    computational_thinking  \n",
            "2                      NaN  \n",
            "49                     NaN  \n",
            "64                     NaN  \n",
            "\n",
            "Graph for Mysql Toppers\n"
          ]
        },
        {
          "output_type": "display_data",
          "data": {
            "text/plain": [
              "<Figure size 432x288 with 1 Axes>"
            ],
            "image/png": "[encoded data removed]"
          },
          "metadata": {
            "needs_background": "light"
          }
        },
        {
          "output_type": "stream",
          "name": "stdout",
          "text": [
            "Computational_thinking Departmentwise Toppers\n",
            "              Name  python  mysql  Previous Geekions  CodeKata Score  \\\n",
            "10       Rushitha    -1.0   62.0               7470            8090   \n",
            "16        Guhan S    -1.0   35.0               7310            7630   \n",
            "0   ASHOK KUMAR K   100.0   31.0              19400           19400   \n",
            "\n",
            "                                   Department  Rising  python_en  \\\n",
            "10           Computer Science and Engineering     620       15.0   \n",
            "16  Electronics and Communication Engineering     320       72.0   \n",
            "0      Electronics and Electrical Engineering       0        0.0   \n",
            "\n",
            "    computational_thinking  \n",
            "10                     9.0  \n",
            "16                    39.0  \n",
            "0                      9.0  \n",
            "\n",
            "Graph for computational_thinking Toppers\n"
          ]
        },
        {
          "output_type": "display_data",
          "data": {
            "text/plain": [
              "<Figure size 432x288 with 1 Axes>"
            ],
            "image/png": "[encoded data removed]"
          },
          "metadata": {
            "needs_background": "light"
          }
        }
      ],
      "source": [
        "\n",
        "cse=result[result['Department'] == 'Computer Science and Engineering']\n",
        "ece=result[result['Department'] == 'Electronics and Communication Engineering']\n",
        "eee=result[result['Department'] == 'Electronics and Electrical Engineering']\n",
        "cse_py=cse.nlargest(1,['python'])\n",
        "cse_pe=cse.nlargest(1,['python_en'])\n",
        "cse_ms=cse.nlargest(1,['mysql'])\n",
        "cse_ct=cse.nlargest(1,['computational_thinking'])\n",
        "\n",
        "ece_py=ece.nlargest(1,['python'])\n",
        "ece_pe=ece.nlargest(1,['python_en'])\n",
        "ece_ms=ece.nlargest(1,['mysql'])\n",
        "ece_ct=ece.nlargest(1,['computational_thinking'])\n",
        "\n",
        "eee_py=eee.nlargest(1,['python'])\n",
        "eee_pe=eee.nlargest(1,['python_en'])\n",
        "eee_ms=eee.nlargest(1,['mysql'])\n",
        "eee_ct=eee.nlargest(1,['computational_thinking'])\n",
        "\n",
        "python=pd.concat([cse_py,ece_py,eee_py],axis=0)\n",
        "print('Python Departmentwise Toppers\\n',python)\n",
        "print('\\nGraph for Python Toppers')\n",
        "names=['CSE','ECE','EEE']\n",
        "plt.bar(names, python['python'], color ='purple', width = 0.2)\n",
        "plt.xlabel(\"Department\")\n",
        "plt.ylabel(\"Python Score\")\n",
        "plt.show()\n",
        "\n",
        "python_en=pd.concat([cse_pe,ece_pe,eee_pe],axis=0)\n",
        "print('Python_en Departmentwise Toppers\\n',python_en)\n",
        "print('\\nGraph for Python_en Toppers')\n",
        "names=['CSE','ECE','EEE']\n",
        "plt.bar(names, python_en['python_en'], color ='green', width = 0.2)\n",
        "plt.xlabel(\"Department\")\n",
        "plt.ylabel(\"Python_en Score\")\n",
        "plt.show()\n",
        "\n",
        "mysql=pd.concat([cse_ms,ece_ms,eee_ms],axis=0)\n",
        "print('Mysql Departmentwise Toppers\\n',mysql)\n",
        "print('\\nGraph for Mysql Toppers')\n",
        "names=['CSE','ECE','EEE']\n",
        "plt.bar(names, mysql['mysql'], color ='cyan', width = 0.2)\n",
        "plt.xlabel(\"Department\")\n",
        "plt.ylabel(\"Mysql Score\")\n",
        "plt.show()\n",
        "\n",
        "ct=pd.concat([cse_ct,ece_ct,eee_ct],axis=0)\n",
        "print('Computational_thinking Departmentwise Toppers\\n',ct)\n",
        "print('\\nGraph for computational_thinking Toppers')\n",
        "names=['CSE','ECE','EEE']\n",
        "plt.bar(names, ct['computational_thinking'], color ='pink', width = 0.2)\n",
        "plt.xlabel(\"Department\")\n",
        "plt.ylabel(\"computational_thinking Score\")\n",
        "plt.show()"
      ]
    }
  ],
  "metadata": {
    "kernelspec": {
      "display_name": "Python 3",
      "language": "python",
      "name": "python3"
    },
    "language_info": {
      "codemirror_mode": {
        "name": "ipython",
        "version": 3
      },
      "file_extension": ".py",
      "mimetype": "text/x-python",
      "name": "python",
      "nbconvert_exporter": "python",
      "pygments_lexer": "ipython3",
      "version": "3.8.3"
    },
    "colab": {
      "provenance": []
    }
  },
  "nbformat": 4,
  "nbformat_minor": 0
}